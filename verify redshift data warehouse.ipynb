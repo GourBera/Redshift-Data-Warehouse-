{
 "cells": [
  {
   "cell_type": "code",
   "execution_count": 23,
   "metadata": {
    "editable": true
   },
   "outputs": [],
   "source": [
    "import psycopg2\n",
    "import configparser\n",
    "import configparser\n",
    "from sql_queries import copy_table_queries, insert_table_queries"
   ]
  },
  {
   "cell_type": "markdown",
   "metadata": {
    "editable": true
   },
   "source": [
    "### Create connection"
   ]
  },
  {
   "cell_type": "code",
   "execution_count": 24,
   "metadata": {
    "editable": true
   },
   "outputs": [],
   "source": [
    "\n",
    "config = configparser.ConfigParser()\n",
    "config.read('dwh.cfg')\n",
    "\n",
    "conn = psycopg2.connect(\"host={} dbname={} user={} password={} port={}\".format(*config['CLUSTER'].values()))\n",
    "cur = conn.cursor()\n"
   ]
  },
  {
   "cell_type": "code",
   "execution_count": null,
   "metadata": {
    "editable": true
   },
   "outputs": [],
   "source": []
  },
  {
   "cell_type": "markdown",
   "metadata": {
    "editable": true
   },
   "source": [
    "### Verify artists table"
   ]
  },
  {
   "cell_type": "code",
   "execution_count": 25,
   "metadata": {
    "editable": true
   },
   "outputs": [
    {
     "data": {
      "text/plain": [
       "[('AR00B1I1187FB433EB', 'Eagle-Eye Cherry', 'Stockholm, Sweden', None, None),\n",
       " ('AR00DG71187B9B7FCB', 'Basslovers United', '', None, None),\n",
       " ('AR00LNI1187FB444A5', 'Bruce BecVar', '', None, None)]"
      ]
     },
     "execution_count": 25,
     "metadata": {},
     "output_type": "execute_result"
    }
   ],
   "source": [
    "cur.execute(\"select * from artists limit 3\")\n",
    "cur.fetchall()\n"
   ]
  },
  {
   "cell_type": "code",
   "execution_count": null,
   "metadata": {
    "editable": true
   },
   "outputs": [],
   "source": []
  },
  {
   "cell_type": "markdown",
   "metadata": {
    "editable": true
   },
   "source": [
    "### Verify songplays table"
   ]
  },
  {
   "cell_type": "code",
   "execution_count": 26,
   "metadata": {
    "editable": true
   },
   "outputs": [
    {
     "data": {
      "text/plain": [
       "[(305,\n",
       "  datetime.datetime(2018, 11, 2, 17, 31, 45, 796000),\n",
       "  10,\n",
       "  'free',\n",
       "  'SOHTKMO12AB01843B0',\n",
       "  'AR5EYTL1187B98EDA0',\n",
       "  182,\n",
       "  'Washington-Arlington-Alexandria, DC-VA-MD-WV',\n",
       "  '\"Mozilla/5.0 (Macintosh; Intel Mac OS X 10_9_4) AppleWebKit/537.77.4 (KHTML, like Gecko) Version/7.0.5 Safari/537.77.4\"'),\n",
       " (188,\n",
       "  datetime.datetime(2018, 11, 2, 18, 2, 42, 796000),\n",
       "  50,\n",
       "  'free',\n",
       "  'SOBONKR12A58A7A7E0',\n",
       "  'AR5E44Z1187B9A1D74',\n",
       "  207,\n",
       "  'New Haven-Milford, CT',\n",
       "  '\"Mozilla/5.0 (Windows NT 6.3; WOW64) AppleWebKit/537.36 (KHTML, like Gecko) Chrome/36.0.1985.143 Safari/537.36\"'),\n",
       " (192,\n",
       "  datetime.datetime(2018, 11, 2, 18, 36, 53, 796000),\n",
       "  71,\n",
       "  'free',\n",
       "  'SOBBZPM12AB017DF4B',\n",
       "  'ARH6W4X1187B99274F',\n",
       "  70,\n",
       "  'Columbia, SC',\n",
       "  '\"Mozilla/5.0 (iPhone; CPU iPhone OS 7_1_1 like Mac OS X) AppleWebKit/537.51.2 (KHTML, like Gecko) Version/7.0 Mobile/11D201 Safari/9537.53\"')]"
      ]
     },
     "execution_count": 26,
     "metadata": {},
     "output_type": "execute_result"
    }
   ],
   "source": [
    "cur.execute(\"select * from songplays limit 3\")\n",
    "cur.fetchall()\n"
   ]
  },
  {
   "cell_type": "code",
   "execution_count": null,
   "metadata": {
    "editable": true
   },
   "outputs": [],
   "source": []
  },
  {
   "cell_type": "markdown",
   "metadata": {
    "editable": true
   },
   "source": [
    "### Verify songs table"
   ]
  },
  {
   "cell_type": "code",
   "execution_count": 27,
   "metadata": {
    "editable": true
   },
   "outputs": [
    {
     "data": {
      "text/plain": [
       "[('SOAACFC12A8C140567',\n",
       "  'Supernatural Pt. II',\n",
       "  'ARNHTE41187B99289A',\n",
       "  0,\n",
       "  343.09179),\n",
       " ('SOAACTC12AB0186A20',\n",
       "  'Christmas Is Coming Soon',\n",
       "  'ARXWFZ21187FB43A0B',\n",
       "  2008,\n",
       "  180.76689),\n",
       " ('SOAADAD12A8C13D5B0',\n",
       "  'One Shot (Album Version)',\n",
       "  'ARQTC851187B9B03AF',\n",
       "  2005,\n",
       "  263.99302)]"
      ]
     },
     "execution_count": 27,
     "metadata": {},
     "output_type": "execute_result"
    }
   ],
   "source": [
    "cur.execute(\"select * from songs limit 3\")\n",
    "cur.fetchall()\n"
   ]
  },
  {
   "cell_type": "code",
   "execution_count": null,
   "metadata": {
    "editable": true
   },
   "outputs": [],
   "source": []
  },
  {
   "cell_type": "markdown",
   "metadata": {
    "editable": true
   },
   "source": [
    "### Verify staging_events table"
   ]
  },
  {
   "cell_type": "code",
   "execution_count": 28,
   "metadata": {
    "editable": true
   },
   "outputs": [
    {
     "data": {
      "text/plain": [
       "[('N.E.R.D. FEATURING MALICE',\n",
       "  'Logged In',\n",
       "  'Jayden',\n",
       "  'M',\n",
       "  0,\n",
       "  'Fox',\n",
       "  288.9922,\n",
       "  'free',\n",
       "  'New Orleans-Metairie, LA',\n",
       "  'PUT',\n",
       "  'NextSong',\n",
       "  1541033612796.0,\n",
       "  184,\n",
       "  'Am I High (Feat. Malice)',\n",
       "  200,\n",
       "  datetime.datetime(2018, 11, 2, 1, 25, 34, 796000),\n",
       "  '\"Mozilla/5.0 (Windows NT 6.3; WOW64) AppleWebKit/537.36 (KHTML, like Gecko) Chrome/36.0.1985.143 Safari/537.36\"',\n",
       "  101),\n",
       " (None,\n",
       "  'Logged In',\n",
       "  'Stefany',\n",
       "  'F',\n",
       "  0,\n",
       "  'White',\n",
       "  None,\n",
       "  'free',\n",
       "  'Lubbock, TX',\n",
       "  'GET',\n",
       "  'Home',\n",
       "  1540708070796.0,\n",
       "  82,\n",
       "  None,\n",
       "  200,\n",
       "  datetime.datetime(2018, 11, 2, 1, 29, 36, 796000),\n",
       "  '\"Mozilla/5.0 (Macintosh; Intel Mac OS X 10_9_4) AppleWebKit/537.36 (KHTML, like Gecko) Chrome/36.0.1985.143 Safari/537.36\"',\n",
       "  83),\n",
       " ('Death Cab for Cutie',\n",
       "  'Logged In',\n",
       "  'Stefany',\n",
       "  'F',\n",
       "  1,\n",
       "  'White',\n",
       "  216.42404,\n",
       "  'free',\n",
       "  'Lubbock, TX',\n",
       "  'PUT',\n",
       "  'NextSong',\n",
       "  1540708070796.0,\n",
       "  82,\n",
       "  'A Lack Of Color (Album Version)',\n",
       "  200,\n",
       "  datetime.datetime(2018, 11, 2, 1, 30, 41, 796000),\n",
       "  '\"Mozilla/5.0 (Macintosh; Intel Mac OS X 10_9_4) AppleWebKit/537.36 (KHTML, like Gecko) Chrome/36.0.1985.143 Safari/537.36\"',\n",
       "  83)]"
      ]
     },
     "execution_count": 28,
     "metadata": {},
     "output_type": "execute_result"
    }
   ],
   "source": [
    "cur.execute(\"select * from staging_events limit 3\")\n",
    "cur.fetchall()\n"
   ]
  },
  {
   "cell_type": "code",
   "execution_count": null,
   "metadata": {
    "editable": true
   },
   "outputs": [],
   "source": []
  },
  {
   "cell_type": "markdown",
   "metadata": {
    "editable": true
   },
   "source": [
    "### Verify staging_songs table"
   ]
  },
  {
   "cell_type": "code",
   "execution_count": 29,
   "metadata": {
    "editable": true
   },
   "outputs": [
    {
     "data": {
      "text/plain": [
       "[(1,\n",
       "  'ARJNIUY12298900C91',\n",
       "  None,\n",
       "  None,\n",
       "  '',\n",
       "  'Adelitas Way',\n",
       "  'SOBLFFE12AF72AA5BA',\n",
       "  'Scream',\n",
       "  213.9424,\n",
       "  2009),\n",
       " (1,\n",
       "  'ARSVTNL1187B992A91',\n",
       "  51.50632,\n",
       "  -0.12714,\n",
       "  'London, England',\n",
       "  'Jonathan King',\n",
       "  'SOEKAZG12AB018837E',\n",
       "  \"I'll Slap Your Face (Entertainment USA Theme)\",\n",
       "  129.85424,\n",
       "  2001),\n",
       " (1,\n",
       "  'ARXR32B1187FB57099',\n",
       "  None,\n",
       "  None,\n",
       "  '',\n",
       "  'Gob',\n",
       "  'SOFSOCN12A8C143F5D',\n",
       "  'Face the Ashes',\n",
       "  209.60608,\n",
       "  2007)]"
      ]
     },
     "execution_count": 29,
     "metadata": {},
     "output_type": "execute_result"
    }
   ],
   "source": [
    "cur.execute(\"select * from staging_songs limit 3\")\n",
    "cur.fetchall()\n"
   ]
  },
  {
   "cell_type": "code",
   "execution_count": null,
   "metadata": {
    "editable": true
   },
   "outputs": [],
   "source": []
  },
  {
   "cell_type": "markdown",
   "metadata": {
    "editable": true
   },
   "source": [
    "### Verify time table"
   ]
  },
  {
   "cell_type": "code",
   "execution_count": 30,
   "metadata": {
    "editable": true
   },
   "outputs": [
    {
     "data": {
      "text/plain": [
       "[(datetime.datetime(2018, 11, 2, 17, 31, 45, 796000),\n",
       "  17,\n",
       "  2,\n",
       "  44,\n",
       "  11,\n",
       "  2018,\n",
       "  '5'),\n",
       " (datetime.datetime(2018, 11, 2, 18, 2, 42, 796000), 18, 2, 44, 11, 2018, '5'),\n",
       " (datetime.datetime(2018, 11, 2, 18, 36, 53, 796000),\n",
       "  18,\n",
       "  2,\n",
       "  44,\n",
       "  11,\n",
       "  2018,\n",
       "  '5')]"
      ]
     },
     "execution_count": 30,
     "metadata": {},
     "output_type": "execute_result"
    }
   ],
   "source": [
    "cur.execute(\"select * from time limit 3\")\n",
    "cur.fetchall()\n"
   ]
  },
  {
   "cell_type": "code",
   "execution_count": null,
   "metadata": {
    "editable": true
   },
   "outputs": [],
   "source": []
  },
  {
   "cell_type": "markdown",
   "metadata": {
    "editable": true
   },
   "source": [
    "### Verify users table"
   ]
  },
  {
   "cell_type": "code",
   "execution_count": 31,
   "metadata": {
    "editable": true
   },
   "outputs": [
    {
     "data": {
      "text/plain": [
       "[(2, 'Jizelle', 'Benjamin', 'F', 'free'),\n",
       " (3, 'Isaac', 'Valdez', 'M', 'free'),\n",
       " (4, 'Alivia', 'Terrell', 'F', 'free')]"
      ]
     },
     "execution_count": 31,
     "metadata": {},
     "output_type": "execute_result"
    }
   ],
   "source": [
    "cur.execute(\"select * from users limit 3\")\n",
    "cur.fetchall()"
   ]
  },
  {
   "cell_type": "code",
   "execution_count": null,
   "metadata": {
    "editable": true
   },
   "outputs": [],
   "source": []
  },
  {
   "cell_type": "code",
   "execution_count": null,
   "metadata": {
    "editable": true
   },
   "outputs": [],
   "source": []
  }
 ],
 "metadata": {
  "kernelspec": {
   "display_name": "Python 3",
   "language": "python",
   "name": "python3"
  },
  "language_info": {
   "codemirror_mode": {
    "name": "ipython",
    "version": 3
   },
   "file_extension": ".py",
   "mimetype": "text/x-python",
   "name": "python",
   "nbconvert_exporter": "python",
   "pygments_lexer": "ipython3",
   "version": "3.6.3"
  }
 },
 "nbformat": 4,
 "nbformat_minor": 4
}
